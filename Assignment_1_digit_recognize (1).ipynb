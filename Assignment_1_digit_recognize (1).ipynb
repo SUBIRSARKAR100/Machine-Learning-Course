{
  "nbformat": 4,
  "nbformat_minor": 0,
  "metadata": {
    "colab": {
      "provenance": []
    },
    "kernelspec": {
      "name": "python3",
      "display_name": "Python 3"
    },
    "language_info": {
      "name": "python"
    }
  },
  "cells": [
    {
      "cell_type": "code",
      "execution_count": 1,
      "metadata": {
        "colab": {
          "base_uri": "https://localhost:8080/",
          "height": 799
        },
        "id": "FDgBAvnLlNU6",
        "outputId": "309cba97-666e-4e9c-dfcb-7a1c261bf6c5"
      },
      "outputs": [
        {
          "output_type": "stream",
          "name": "stdout",
          "text": [
            "Downloading data from https://storage.googleapis.com/tensorflow/tf-keras-datasets/mnist.npz\n",
            "\u001b[1m11490434/11490434\u001b[0m \u001b[32m━━━━━━━━━━━━━━━━━━━━\u001b[0m\u001b[37m\u001b[0m \u001b[1m0s\u001b[0m 0us/step\n"
          ]
        },
        {
          "output_type": "stream",
          "name": "stderr",
          "text": [
            "/usr/local/lib/python3.11/dist-packages/keras/src/layers/reshaping/flatten.py:37: UserWarning: Do not pass an `input_shape`/`input_dim` argument to a layer. When using Sequential models, prefer using an `Input(shape)` object as the first layer in the model instead.\n",
            "  super().__init__(**kwargs)\n"
          ]
        },
        {
          "output_type": "stream",
          "name": "stdout",
          "text": [
            "Epoch 1/5\n",
            "\u001b[1m1875/1875\u001b[0m \u001b[32m━━━━━━━━━━━━━━━━━━━━\u001b[0m\u001b[37m\u001b[0m \u001b[1m11s\u001b[0m 5ms/step - accuracy: 0.8557 - loss: 0.4951\n",
            "Epoch 2/5\n",
            "\u001b[1m1875/1875\u001b[0m \u001b[32m━━━━━━━━━━━━━━━━━━━━\u001b[0m\u001b[37m\u001b[0m \u001b[1m9s\u001b[0m 5ms/step - accuracy: 0.9536 - loss: 0.1551\n",
            "Epoch 3/5\n",
            "\u001b[1m1875/1875\u001b[0m \u001b[32m━━━━━━━━━━━━━━━━━━━━\u001b[0m\u001b[37m\u001b[0m \u001b[1m10s\u001b[0m 5ms/step - accuracy: 0.9666 - loss: 0.1091\n",
            "Epoch 4/5\n",
            "\u001b[1m1875/1875\u001b[0m \u001b[32m━━━━━━━━━━━━━━━━━━━━\u001b[0m\u001b[37m\u001b[0m \u001b[1m9s\u001b[0m 4ms/step - accuracy: 0.9727 - loss: 0.0873\n",
            "Epoch 5/5\n",
            "\u001b[1m1875/1875\u001b[0m \u001b[32m━━━━━━━━━━━━━━━━━━━━\u001b[0m\u001b[37m\u001b[0m \u001b[1m11s\u001b[0m 4ms/step - accuracy: 0.9756 - loss: 0.0757\n",
            "\u001b[1m313/313\u001b[0m \u001b[32m━━━━━━━━━━━━━━━━━━━━\u001b[0m\u001b[37m\u001b[0m \u001b[1m1s\u001b[0m 2ms/step - accuracy: 0.9747 - loss: 0.0845\n",
            "Test Accuracy: 0.9784\n"
          ]
        },
        {
          "output_type": "display_data",
          "data": {
            "text/plain": [
              "<Figure size 640x480 with 1 Axes>"
            ],
            "image/png": "[encoded data removed]"
          },
          "metadata": {}
        },
        {
          "output_type": "stream",
          "name": "stdout",
          "text": [
            "\u001b[1m1/1\u001b[0m \u001b[32m━━━━━━━━━━━━━━━━━━━━\u001b[0m\u001b[37m\u001b[0m \u001b[1m0s\u001b[0m 105ms/step\n",
            "Predicted Label: 7\n"
          ]
        }
      ],
      "source": [
        "####import Liabraries:\n",
        "# Import TensorFlow library for building and training the neural network\n",
        "import tensorflow as tf\n",
        "\n",
        "# Import layers and models from Keras API inside TensorFlow\n",
        "from tensorflow.keras import layers, models\n",
        "\n",
        "# Import the MNIST dataset from Keras\n",
        "from tensorflow.keras.datasets import mnist\n",
        "\n",
        "# Import matplotlib for displaying images\n",
        "import matplotlib.pyplot as plt\n",
        "\n",
        "#### Load the MNIST dataset:\n",
        "# x_train, y_train : training images and labels\n",
        "# x_test, y_test : after training testing images and labels\n",
        "(x_train, y_train), (x_test, y_test) = mnist.load_data()\n",
        "\n",
        "####Normalize the dataset:\n",
        "# Pixel values in MNIST images range from 0 to 255.\n",
        "# Dividing by 255.0 converts them to a range of 0 to 1 (helps model train faster)\n",
        "x_train, x_test = x_train / 255.0, x_test / 255.0\n",
        "\n",
        "\n",
        "####Build the model\n",
        "# Using Sequential model (layers stacked one after another)\n",
        "model = models.Sequential([\n",
        "    # Flatten layer : converts 28x28 image into a 1D array of 784 values\n",
        "    layers.Flatten(input_shape=(28, 28)),\n",
        "\n",
        "    # Dense layer : fully connected layer with 128 neurons, using ReLU activation\n",
        "    layers.Dense(128, activation='relu'),\n",
        "\n",
        "    # Dropout layer : randomly turns off 20% of neurons to prevent overfitting\n",
        "    layers.Dropout(0.2),\n",
        "\n",
        "    # Output layer : 10 neurons (for digits 0–9), using softmax for probability output\n",
        "    layers.Dense(10, activation='softmax')\n",
        "])\n",
        "\n",
        "####compiling the model:\n",
        "# optimizer = 'adam' : adjusts weights efficiently\n",
        "model.compile(optimizer='adam',\n",
        "              # loss = 'sparse_categorical_crossentropy' : for multi-class classification with integer labels\n",
        "              loss='sparse_categorical_crossentropy',\n",
        "              # metrics = ['accuracy'] : measure how many predictions are correct\n",
        "              metrics=['accuracy'])\n",
        "\n",
        "####Train the Model :\n",
        "# Fit the model on the training data for 5 passes (epochs)\n",
        "model.fit(x_train, y_train, epochs=5)\n",
        "\n",
        "#### Evaluate the Model :\n",
        "# Check the model’s performance on test data\n",
        "test_loss, test_acc = model.evaluate(x_test, y_test)\n",
        "print(f\"Test Accuracy: {test_acc:.4f}\")  # Display accuracy up to 4 decimal places\n",
        "\n",
        "#### Predict and Display a Digit :\n",
        "# Import numpy for working with arrays\n",
        "import numpy as np\n",
        "\n",
        "# Show the first test image\n",
        "plt.imshow(x_test[0], cmap='gray')  # 'gray' color map for black & white image\n",
        "plt.title(f\"Actual: {y_test[0]}\")   # Show the actual label as title\n",
        "plt.show() # it displays the images.\n",
        "\n",
        "# Predict the digit using the trained model\n",
        "prediction = model.predict(np.array([x_test[0]]))  # Wrap image in array for batch size\n",
        "predicted_label = tf.argmax(prediction[0]).numpy()  # Get index of highest probability\n",
        "print(f\"Predicted Label: {predicted_label}\") #it prints the digits that model show."
      ]
    },
    {
      "cell_type": "markdown",
      "source": [
        "#Assignment 1 :- Recognize a digit using machine learning\n",
        "\n",
        "Name :- SUBIR SARKAR\n",
        "\n",
        "\n",
        "ROLL NO. :- 232050007013\n",
        "\n",
        "\n",
        "BRANCH:- C.S.E\n",
        "\n",
        "\n",
        "SEMESTER:- 7th semester\n"
      ],
      "metadata": {
        "id": "rYLgTbtMmMtD"
      }
    },
    {
      "cell_type": "markdown",
      "source": [
        "### 1.Importing All Required Libraries\n",
        "I import:\n",
        "- *TensorFlow*: A library for building and training neural networks.\n",
        "- *Keras layers & models*: Used to design my model architecture.\n",
        "- *MNIST dataset*: Preloaded in TensorFlow, contains handwritten digits.\n",
        "- *Matplotlib*: For displaying images.\n",
        "- *NumPy*: For numerical operations and array handling.\n"
      ],
      "metadata": {
        "id": "walIeCEmo9qF"
      }
    },
    {
      "cell_type": "markdown",
      "source": [
        "##2.Loading the MNIST dataset:-\n",
        "\n",
        "so in these dataset it contains:\n",
        "\n",
        "-**60,000 training images** with labels(digit0-9)\n",
        "\n",
        "-**10,000 testing images** each images 28*28 pixels\n",
        "\n",
        "(x_train,Y-train) = Training images (28*28 pixels),And labels the training images (actually digits the value) respectively.\n",
        "\n",
        "(X_test,Y-test) = Test images :- used for evaluating theimages after training ,And LAbels for test images respectively."
      ],
      "metadata": {
        "id": "b_VECX2jqyrx"
      }
    },
    {
      "cell_type": "markdown",
      "source": [
        "###3.Normalize the pixel values :\n",
        "\n",
        "*x_train, x_test = x_train / 255.0, x_test / 255.0*\n",
        "\n",
        "so pixels value ranges is 0-255\n",
        "\n",
        "so i divide by 255.0 scales them between 0 and 1 , it makes training faster.\n"
      ],
      "metadata": {
        "id": "p9nHQdluseAl"
      }
    },
    {
      "cell_type": "markdown",
      "source": [
        "###4.Building the neural network model :\n",
        "\n",
        ":-models.sequencial:- it creates a sequencial model.\n",
        "\n",
        ":-layers.Flatten(input_shape=(28, 28)):- converts each 28*28 img into 1D array of 784 values.\n",
        "\n",
        ":- layers.Dense(128, activation='relu'):- fully connected layers with 128 neurons and ReLU activation.\n",
        "\n",
        ":-layers dropout(0.2):- it turnoffs 20% of neurons during training to reduce overlifting .\n",
        "\n",
        ":-layers.Dense(10, activation='softmax'):- Output layers with 10 neurons(0-9)\n",
        "\n",
        "\n",
        "\n",
        "\n",
        "\n",
        "\n",
        "\n"
      ],
      "metadata": {
        "id": "EbKhC7EqwXPf"
      }
    },
    {
      "cell_type": "markdown",
      "source": [
        "###5.Compiling the model\n",
        "\n",
        ":-model.compile(optimizer='adam':- It is used for adam optimizer to update weights for better accuracy.\n",
        "\n",
        ":-loss='sparse_categorical_crossentropy',:-It is a loss function for multiclss classification with integer labels.\n",
        "\n",
        ":- metrics=['accuracy']):- it Tracks accuracy during training and testing.\n",
        "\n",
        "\n",
        "\n"
      ],
      "metadata": {
        "id": "o4_WdpYc5GAd"
      }
    },
    {
      "cell_type": "markdown",
      "source": [
        "###6.Training the models :    \n",
        "\n",
        "model.fit(x_train, y_train, epochs=5):- it trains the models on the training dataset for 5 complete passes(epochs)"
      ],
      "metadata": {
        "id": "s1lQcaZ76IyE"
      }
    },
    {
      "cell_type": "markdown",
      "source": [
        "###7.Evaluating the models :     \n",
        "\n",
        "test_loss, test_acc = model.evaluate(x_test, y_test)\n",
        "print(f\"Test Accuracy: {test_acc:.4f}\"):- it test the trained model  in the test dataset and returns loss and accuracy .\n",
        "\n",
        "afterthat it prints the accuracy in trhe decimal formate .\n",
        "\n"
      ],
      "metadata": {
        "id": "pysCTjoq6n12"
      }
    },
    {
      "cell_type": "markdown",
      "source": [
        "###8.Displaying the text image :    \n",
        "\n",
        "*:-plt.imshow(x_test[0], cmap='gray')* :- it displays the 1st test images in the grayscale.\n",
        "\n",
        ":-*plt.title(f\"Actual: {y_test[0]}\")* :- it show sthe actual label (correct digit) as title of the image.\n",
        "\n",
        ":-*pli.show *:- id displays the image.\n",
        "\n",
        "\n"
      ],
      "metadata": {
        "id": "Qj1Wzkx-8HYy"
      }
    },
    {
      "cell_type": "markdown",
      "source": [
        "###9.Making a prediction :     \n",
        "\n",
        ":-* pridiction=model.predict(np.array([x_test[0]]))* :-  it passes the 1st test image into the model and gets probability prediction.\n",
        "\n",
        ":-predicted_label = *tf.argmax(prediction[0]).numpy()* :- it fins the digit with the highest probability and converts it into normal integer.\n",
        "\n",
        ":-*print(f\"Predicted Label: {predicted_label}\")* :- it prints the digits that model predicts for the image."
      ],
      "metadata": {
        "id": "8QhExT8GBCpx"
      }
    }
  ]
}